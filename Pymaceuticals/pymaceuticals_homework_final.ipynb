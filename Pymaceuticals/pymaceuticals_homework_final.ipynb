{
 "cells": [
  {
   "cell_type": "markdown",
   "metadata": {},
   "source": [
    "## Observations and Insights"
   ]
  },
  {
   "cell_type": "markdown",
   "metadata": {},
   "source": [
    "Observation 1:  \n",
    "\n",
    "Both Capomulin and Ramicane drug regimens show the best results in reducing tumor volume.  The average mean at the end of study (at the 45 day mark) for Capomulin is 40.675741 and the average mean at the end of study (at the 45 day mark) for Ramicane is 40.216745.\t"
   ]
  },
  {
   "cell_type": "markdown",
   "metadata": {},
   "source": [
    "Observation 2:  Out of the top 4 drug regimens, Infubinol is the only drug that shows an outlier (Mouse ID C326).  Mouse ID C326 shows a significant tumor volume decline from 45.000 (0 day mark) to 36.3213 (5 day mark) and then died.  This could be an abnormality and this data could be discarded.  All other mice that died within the same timeframe as C326 all showed increases in tumor volume, unlike C326.  See data below:\n",
    "\n",
    "                            Tumor volume at 0 day mark        Tumor volume at 5 day mark\n",
    "        Mouse ID M756:      45.00                             47.01\n",
    "        Mouse ID O813:      45.00                             45.69\n",
    "        Mouse ID R339       45.00                             46.25"
   ]
  },
  {
   "cell_type": "markdown",
   "metadata": {},
   "source": [
    "Obervation 3: There is a strong positive correlation between mice weight and avg tumor volume for Capomulin. The correlation between average tumor volume and average mice weight is: 0.84"
   ]
  },
  {
   "cell_type": "markdown",
   "metadata": {},
   "source": [
    "## Dependencies and starter code"
   ]
  },
  {
   "cell_type": "code",
   "execution_count": 1,
   "metadata": {},
   "outputs": [
    {
     "data": {
      "text/html": [
       "<div>\n",
       "<style scoped>\n",
       "    .dataframe tbody tr th:only-of-type {\n",
       "        vertical-align: middle;\n",
       "    }\n",
       "\n",
       "    .dataframe tbody tr th {\n",
       "        vertical-align: top;\n",
       "    }\n",
       "\n",
       "    .dataframe thead th {\n",
       "        text-align: right;\n",
       "    }\n",
       "</style>\n",
       "<table border=\"1\" class=\"dataframe\">\n",
       "  <thead>\n",
       "    <tr style=\"text-align: right;\">\n",
       "      <th></th>\n",
       "      <th>Mouse ID</th>\n",
       "      <th>Drug Regimen</th>\n",
       "      <th>Sex</th>\n",
       "      <th>Age_months</th>\n",
       "      <th>Weight (g)</th>\n",
       "      <th>Timepoint</th>\n",
       "      <th>Tumor Volume (mm3)</th>\n",
       "      <th>Metastatic Sites</th>\n",
       "    </tr>\n",
       "  </thead>\n",
       "  <tbody>\n",
       "    <tr>\n",
       "      <td>0</td>\n",
       "      <td>k403</td>\n",
       "      <td>Ramicane</td>\n",
       "      <td>Male</td>\n",
       "      <td>21</td>\n",
       "      <td>16</td>\n",
       "      <td>0</td>\n",
       "      <td>45.000000</td>\n",
       "      <td>0</td>\n",
       "    </tr>\n",
       "    <tr>\n",
       "      <td>1</td>\n",
       "      <td>k403</td>\n",
       "      <td>Ramicane</td>\n",
       "      <td>Male</td>\n",
       "      <td>21</td>\n",
       "      <td>16</td>\n",
       "      <td>5</td>\n",
       "      <td>38.825898</td>\n",
       "      <td>0</td>\n",
       "    </tr>\n",
       "    <tr>\n",
       "      <td>2</td>\n",
       "      <td>k403</td>\n",
       "      <td>Ramicane</td>\n",
       "      <td>Male</td>\n",
       "      <td>21</td>\n",
       "      <td>16</td>\n",
       "      <td>10</td>\n",
       "      <td>35.014271</td>\n",
       "      <td>1</td>\n",
       "    </tr>\n",
       "    <tr>\n",
       "      <td>3</td>\n",
       "      <td>k403</td>\n",
       "      <td>Ramicane</td>\n",
       "      <td>Male</td>\n",
       "      <td>21</td>\n",
       "      <td>16</td>\n",
       "      <td>15</td>\n",
       "      <td>34.223992</td>\n",
       "      <td>1</td>\n",
       "    </tr>\n",
       "    <tr>\n",
       "      <td>4</td>\n",
       "      <td>k403</td>\n",
       "      <td>Ramicane</td>\n",
       "      <td>Male</td>\n",
       "      <td>21</td>\n",
       "      <td>16</td>\n",
       "      <td>20</td>\n",
       "      <td>32.997729</td>\n",
       "      <td>1</td>\n",
       "    </tr>\n",
       "  </tbody>\n",
       "</table>\n",
       "</div>"
      ],
      "text/plain": [
       "  Mouse ID Drug Regimen   Sex  Age_months  Weight (g)  Timepoint  \\\n",
       "0     k403     Ramicane  Male          21          16          0   \n",
       "1     k403     Ramicane  Male          21          16          5   \n",
       "2     k403     Ramicane  Male          21          16         10   \n",
       "3     k403     Ramicane  Male          21          16         15   \n",
       "4     k403     Ramicane  Male          21          16         20   \n",
       "\n",
       "   Tumor Volume (mm3)  Metastatic Sites  \n",
       "0           45.000000                 0  \n",
       "1           38.825898                 0  \n",
       "2           35.014271                 1  \n",
       "3           34.223992                 1  \n",
       "4           32.997729                 1  "
      ]
     },
     "execution_count": 1,
     "metadata": {},
     "output_type": "execute_result"
    }
   ],
   "source": [
    "# Dependencies and Setup\n",
    "import matplotlib.pyplot as plt\n",
    "import pandas as pd\n",
    "import scipy.stats as st\n",
    "import numpy as np\n",
    "from scipy.stats import sem\n",
    "\n",
    "# Study data files\n",
    "mouse_metadata = \"data/Mouse_metadata.csv\"\n",
    "study_results = \"data/Study_results.csv\"\n",
    "\n",
    "# Read the mouse data and the study results\n",
    "mouse_metadata = pd.read_csv(mouse_metadata)\n",
    "study_results = pd.read_csv(study_results)\n",
    "\n",
    "# Combining the data into a single dataset\n",
    "orig_combine_data = pd.merge(mouse_metadata, study_results, how=\"outer\", on=\"Mouse ID\")\n",
    "orig_combine_data.head(5)\n"
   ]
  },
  {
   "cell_type": "markdown",
   "metadata": {},
   "source": [
    "## Summary statistics"
   ]
  },
  {
   "cell_type": "code",
   "execution_count": 2,
   "metadata": {},
   "outputs": [],
   "source": [
    "# HOMEWORK INSTRUCTIONS: Generate a summary statistics table of mean, median, variance, standard deviation, \n",
    "# and SEM of the tumor volume for each regimen\n",
    "\n",
    "# The next 10 cells will calculate statistics for each drug.  A statistic summary table is below all these calculations.\n",
    "\n",
    "capomulin_data = orig_combine_data.loc[orig_combine_data[\"Drug Regimen\"] == \"Capomulin\"]\n",
    "\n",
    "drug_regimen_0 = \"Capomulin\"\n",
    "capomulin_mean = np.mean(capomulin_data[\"Tumor Volume (mm3)\"])\n",
    "capomulin_median = np.median(capomulin_data[\"Tumor Volume (mm3)\"])\n",
    "capomulin_var = np.var(capomulin_data[\"Tumor Volume (mm3)\"], ddof = 0)\n",
    "capomulin_std = np.std(capomulin_data[\"Tumor Volume (mm3)\"])\n",
    "capomulin_sem = sem(capomulin_data[\"Tumor Volume (mm3)\"])"
   ]
  },
  {
   "cell_type": "code",
   "execution_count": 3,
   "metadata": {},
   "outputs": [],
   "source": [
    "ceftamin_data = orig_combine_data.loc[orig_combine_data[\"Drug Regimen\"] == \"Ceftamin\"]\n",
    "\n",
    "drug_regimen_1 = \"Ceftamin\"\n",
    "ceftamin_mean = np.mean(ceftamin_data[\"Tumor Volume (mm3)\"])\n",
    "ceftamin_median = np.median(ceftamin_data[\"Tumor Volume (mm3)\"])\n",
    "ceftamin_var = np.var(ceftamin_data[\"Tumor Volume (mm3)\"], ddof = 0)\n",
    "ceftamin_std = np.std(ceftamin_data[\"Tumor Volume (mm3)\"])\n",
    "ceftamin_sem = sem(ceftamin_data[\"Tumor Volume (mm3)\"])"
   ]
  },
  {
   "cell_type": "code",
   "execution_count": 4,
   "metadata": {},
   "outputs": [],
   "source": [
    "infubinol_data = orig_combine_data.loc[orig_combine_data[\"Drug Regimen\"] == \"Infubinol\"]\n",
    "\n",
    "drug_regimen_2 = \"Infubinol\"\n",
    "infubinol_mean = np.mean(infubinol_data[\"Tumor Volume (mm3)\"])\n",
    "infubinol_median = np.median(infubinol_data[\"Tumor Volume (mm3)\"])\n",
    "infubinol_var = np.var(infubinol_data[\"Tumor Volume (mm3)\"], ddof = 0)\n",
    "infubinol_std = np.std(infubinol_data[\"Tumor Volume (mm3)\"])\n",
    "infubinol_sem = sem(infubinol_data[\"Tumor Volume (mm3)\"])"
   ]
  },
  {
   "cell_type": "code",
   "execution_count": 5,
   "metadata": {},
   "outputs": [],
   "source": [
    "ketapril_data = orig_combine_data.loc[orig_combine_data[\"Drug Regimen\"] == \"Ketapril\"]\n",
    "\n",
    "drug_regimen_3 = \"Ketapril\"\n",
    "ketapril_mean = np.mean(ketapril_data[\"Tumor Volume (mm3)\"])\n",
    "ketapril_median = np.median(ketapril_data[\"Tumor Volume (mm3)\"])\n",
    "ketapril_var = np.var(ketapril_data[\"Tumor Volume (mm3)\"], ddof = 0)\n",
    "ketapril_std = np.std(ketapril_data[\"Tumor Volume (mm3)\"])\n",
    "ketapril_sem = sem(ketapril_data[\"Tumor Volume (mm3)\"])"
   ]
  },
  {
   "cell_type": "code",
   "execution_count": 6,
   "metadata": {},
   "outputs": [],
   "source": [
    "naftisol_data = orig_combine_data.loc[orig_combine_data[\"Drug Regimen\"] == \"Naftisol\"]\n",
    "\n",
    "drug_regimen_4 = \"Naftisol\"\n",
    "naftisol_mean = np.mean(naftisol_data[\"Tumor Volume (mm3)\"])\n",
    "naftisol_median = np.median(naftisol_data[\"Tumor Volume (mm3)\"])\n",
    "naftisol_var = np.var(naftisol_data[\"Tumor Volume (mm3)\"], ddof = 0)\n",
    "naftisol_std = np.std(naftisol_data[\"Tumor Volume (mm3)\"])\n",
    "naftisol_sem = sem(naftisol_data[\"Tumor Volume (mm3)\"])"
   ]
  },
  {
   "cell_type": "code",
   "execution_count": 7,
   "metadata": {},
   "outputs": [],
   "source": [
    "placebo_data = orig_combine_data.loc[orig_combine_data[\"Drug Regimen\"] == \"Placebo\"]\n",
    "\n",
    "drug_regimen_5 = \"Placebo\"\n",
    "placebo_mean = np.mean(placebo_data[\"Tumor Volume (mm3)\"])\n",
    "placebo_median = np.median(placebo_data[\"Tumor Volume (mm3)\"])\n",
    "placebo_var = np.var(placebo_data[\"Tumor Volume (mm3)\"], ddof = 0)\n",
    "placebo_std = np.std(placebo_data[\"Tumor Volume (mm3)\"])\n",
    "placebo_sem = sem(placebo_data[\"Tumor Volume (mm3)\"])"
   ]
  },
  {
   "cell_type": "code",
   "execution_count": 8,
   "metadata": {},
   "outputs": [],
   "source": [
    "propriva_data = orig_combine_data.loc[orig_combine_data[\"Drug Regimen\"] == \"Propriva\"]\n",
    "\n",
    "drug_regimen_6 = \"Propriva\"\n",
    "propriva_mean = np.mean(propriva_data[\"Tumor Volume (mm3)\"])\n",
    "propriva_median = np.median(propriva_data[\"Tumor Volume (mm3)\"])\n",
    "propriva_var = np.var(propriva_data[\"Tumor Volume (mm3)\"], ddof = 0)\n",
    "propriva_std = np.std(propriva_data[\"Tumor Volume (mm3)\"])\n",
    "propriva_sem = sem(propriva_data[\"Tumor Volume (mm3)\"])"
   ]
  },
  {
   "cell_type": "code",
   "execution_count": 9,
   "metadata": {},
   "outputs": [],
   "source": [
    "ramicane_data = orig_combine_data.loc[orig_combine_data[\"Drug Regimen\"] == \"Ramicane\"]\n",
    "\n",
    "drug_regimen_7 = \"Ramicane\"\n",
    "ramicane_mean = np.mean(ramicane_data[\"Tumor Volume (mm3)\"])\n",
    "ramicane_median = np.median(ramicane_data[\"Tumor Volume (mm3)\"])\n",
    "ramicane_var = np.var(ramicane_data[\"Tumor Volume (mm3)\"], ddof = 0)\n",
    "ramicane_std = np.std(ramicane_data[\"Tumor Volume (mm3)\"])\n",
    "ramicane_sem = sem(ramicane_data[\"Tumor Volume (mm3)\"])"
   ]
  },
  {
   "cell_type": "code",
   "execution_count": 10,
   "metadata": {},
   "outputs": [],
   "source": [
    "stelasyn_data = orig_combine_data.loc[orig_combine_data[\"Drug Regimen\"] == \"Stelasyn\"]\n",
    "\n",
    "drug_regimen_8 = \"Stelasyn\"\n",
    "stelasyn_mean = np.mean(stelasyn_data[\"Tumor Volume (mm3)\"])\n",
    "stelasyn_median = np.median(stelasyn_data[\"Tumor Volume (mm3)\"])\n",
    "stelasyn_var = np.var(stelasyn_data[\"Tumor Volume (mm3)\"], ddof = 0)\n",
    "stelasyn_std = np.std(stelasyn_data[\"Tumor Volume (mm3)\"])\n",
    "stelasyn_sem = sem(stelasyn_data[\"Tumor Volume (mm3)\"])"
   ]
  },
  {
   "cell_type": "code",
   "execution_count": 11,
   "metadata": {},
   "outputs": [],
   "source": [
    "zoniferol_data = orig_combine_data.loc[orig_combine_data[\"Drug Regimen\"] == \"Zoniferol\"]\n",
    "\n",
    "drug_regimen_9 = \"Zoniferol\"\n",
    "zoniferol_mean = np.mean(zoniferol_data[\"Tumor Volume (mm3)\"])\n",
    "zoniferol_median = np.median(zoniferol_data[\"Tumor Volume (mm3)\"])\n",
    "zoniferol_var = np.var(zoniferol_data[\"Tumor Volume (mm3)\"], ddof = 0)\n",
    "zoniferol_std = np.std(zoniferol_data[\"Tumor Volume (mm3)\"])\n",
    "zoniferol_sem = sem(zoniferol_data[\"Tumor Volume (mm3)\"])"
   ]
  },
  {
   "cell_type": "code",
   "execution_count": 12,
   "metadata": {},
   "outputs": [
    {
     "data": {
      "text/html": [
       "<div>\n",
       "<style scoped>\n",
       "    .dataframe tbody tr th:only-of-type {\n",
       "        vertical-align: middle;\n",
       "    }\n",
       "\n",
       "    .dataframe tbody tr th {\n",
       "        vertical-align: top;\n",
       "    }\n",
       "\n",
       "    .dataframe thead th {\n",
       "        text-align: right;\n",
       "    }\n",
       "</style>\n",
       "<table border=\"1\" class=\"dataframe\">\n",
       "  <thead>\n",
       "    <tr style=\"text-align: right;\">\n",
       "      <th></th>\n",
       "      <th>Drug Regimen</th>\n",
       "      <th>Mean</th>\n",
       "      <th>Median</th>\n",
       "      <th>Variance</th>\n",
       "      <th>STD</th>\n",
       "      <th>SEM</th>\n",
       "    </tr>\n",
       "  </thead>\n",
       "  <tbody>\n",
       "    <tr>\n",
       "      <td>0</td>\n",
       "      <td>Capomulin</td>\n",
       "      <td>40.675741</td>\n",
       "      <td>41.557809</td>\n",
       "      <td>24.839296</td>\n",
       "      <td>4.983904</td>\n",
       "      <td>0.329346</td>\n",
       "    </tr>\n",
       "    <tr>\n",
       "      <td>1</td>\n",
       "      <td>Ceftamin</td>\n",
       "      <td>52.591172</td>\n",
       "      <td>51.776157</td>\n",
       "      <td>39.069446</td>\n",
       "      <td>6.250556</td>\n",
       "      <td>0.469821</td>\n",
       "    </tr>\n",
       "    <tr>\n",
       "      <td>2</td>\n",
       "      <td>Infubinol</td>\n",
       "      <td>52.884795</td>\n",
       "      <td>51.820584</td>\n",
       "      <td>42.886388</td>\n",
       "      <td>6.548770</td>\n",
       "      <td>0.492236</td>\n",
       "    </tr>\n",
       "    <tr>\n",
       "      <td>3</td>\n",
       "      <td>Ketapril</td>\n",
       "      <td>55.235638</td>\n",
       "      <td>53.698743</td>\n",
       "      <td>68.188930</td>\n",
       "      <td>8.257659</td>\n",
       "      <td>0.603860</td>\n",
       "    </tr>\n",
       "    <tr>\n",
       "      <td>4</td>\n",
       "      <td>Naftisol</td>\n",
       "      <td>54.331565</td>\n",
       "      <td>52.509285</td>\n",
       "      <td>65.817708</td>\n",
       "      <td>8.112811</td>\n",
       "      <td>0.596466</td>\n",
       "    </tr>\n",
       "    <tr>\n",
       "      <td>5</td>\n",
       "      <td>Placebo</td>\n",
       "      <td>54.033581</td>\n",
       "      <td>52.288934</td>\n",
       "      <td>60.830138</td>\n",
       "      <td>7.799368</td>\n",
       "      <td>0.581331</td>\n",
       "    </tr>\n",
       "    <tr>\n",
       "      <td>6</td>\n",
       "      <td>Propriva</td>\n",
       "      <td>52.322552</td>\n",
       "      <td>50.854632</td>\n",
       "      <td>42.088020</td>\n",
       "      <td>6.487528</td>\n",
       "      <td>0.512884</td>\n",
       "    </tr>\n",
       "    <tr>\n",
       "      <td>7</td>\n",
       "      <td>Ramicane</td>\n",
       "      <td>40.216745</td>\n",
       "      <td>40.673236</td>\n",
       "      <td>23.383692</td>\n",
       "      <td>4.835669</td>\n",
       "      <td>0.320955</td>\n",
       "    </tr>\n",
       "    <tr>\n",
       "      <td>8</td>\n",
       "      <td>Stelasyn</td>\n",
       "      <td>54.233149</td>\n",
       "      <td>52.431737</td>\n",
       "      <td>59.122106</td>\n",
       "      <td>7.689090</td>\n",
       "      <td>0.573111</td>\n",
       "    </tr>\n",
       "    <tr>\n",
       "      <td>9</td>\n",
       "      <td>Zoniferol</td>\n",
       "      <td>53.236507</td>\n",
       "      <td>51.818479</td>\n",
       "      <td>48.266689</td>\n",
       "      <td>6.947423</td>\n",
       "      <td>0.516398</td>\n",
       "    </tr>\n",
       "  </tbody>\n",
       "</table>\n",
       "</div>"
      ],
      "text/plain": [
       "  Drug Regimen       Mean     Median   Variance       STD       SEM\n",
       "0    Capomulin  40.675741  41.557809  24.839296  4.983904  0.329346\n",
       "1     Ceftamin  52.591172  51.776157  39.069446  6.250556  0.469821\n",
       "2    Infubinol  52.884795  51.820584  42.886388  6.548770  0.492236\n",
       "3     Ketapril  55.235638  53.698743  68.188930  8.257659  0.603860\n",
       "4     Naftisol  54.331565  52.509285  65.817708  8.112811  0.596466\n",
       "5      Placebo  54.033581  52.288934  60.830138  7.799368  0.581331\n",
       "6     Propriva  52.322552  50.854632  42.088020  6.487528  0.512884\n",
       "7     Ramicane  40.216745  40.673236  23.383692  4.835669  0.320955\n",
       "8     Stelasyn  54.233149  52.431737  59.122106  7.689090  0.573111\n",
       "9    Zoniferol  53.236507  51.818479  48.266689  6.947423  0.516398"
      ]
     },
     "execution_count": 12,
     "metadata": {},
     "output_type": "execute_result"
    }
   ],
   "source": [
    "# Generating a summary statistics table for all 10 drug regimens\n",
    "\n",
    "stat_summary = pd.DataFrame({\"Drug Regimen\": [drug_regimen_0, drug_regimen_1, drug_regimen_2, drug_regimen_3, drug_regimen_4,\n",
    "                                            drug_regimen_5, drug_regimen_6, drug_regimen_7, drug_regimen_8, drug_regimen_9],\n",
    "                            \"Mean\": [capomulin_mean, ceftamin_mean, infubinol_mean,ketapril_mean, naftisol_mean,\n",
    "                                    placebo_mean, propriva_mean, ramicane_mean, stelasyn_mean, zoniferol_mean],\n",
    "                            \"Median\": [capomulin_median, ceftamin_median, infubinol_median, ketapril_median, naftisol_median,\n",
    "                                      placebo_median, propriva_median, ramicane_median, stelasyn_median, zoniferol_median],\n",
    "                            \"Variance\": [capomulin_var, ceftamin_var, infubinol_var, ketapril_var, naftisol_var,\n",
    "                                        placebo_var, propriva_var, ramicane_var, stelasyn_var, zoniferol_var],\n",
    "                            \"STD\": [capomulin_std, ceftamin_std, infubinol_std, ketapril_std, naftisol_std,\n",
    "                                   placebo_std, propriva_std, ramicane_std, stelasyn_std, zoniferol_std],\n",
    "                            \"SEM\": [capomulin_sem, ceftamin_sem, infubinol_sem, ketapril_sem, naftisol_sem,\n",
    "                                   placebo_sem, propriva_sem, ramicane_sem, stelasyn_sem, zoniferol_sem]})\n",
    "stat_summary"
   ]
  },
  {
   "cell_type": "markdown",
   "metadata": {},
   "source": [
    "## Bar plots"
   ]
  },
  {
   "cell_type": "code",
   "execution_count": 13,
   "metadata": {},
   "outputs": [
    {
     "data": {
      "text/plain": [
       "(0, 255)"
      ]
     },
     "execution_count": 13,
     "metadata": {},
     "output_type": "execute_result"
    },
    {
     "data": {
      "image/png": "[encoded data removed]",
      "text/plain": [
       "<Figure size 432x216 with 1 Axes>"
      ]
     },
     "metadata": {
      "needs_background": "light"
     },
     "output_type": "display_data"
    }
   ],
   "source": [
    "# HOMEWORK INSTRUCTIONS: Generate a bar plot showing number of data points for each treatment regimen using pandas\n",
    "\n",
    "drug_count = orig_combine_data[\"Drug Regimen\"].value_counts()\n",
    "drug_count.plot(kind=\"bar\", color=\"blue\", alpha=0.5, width=0.8, figsize=(6, 3))\n",
    "plt.title(\"# of Mice in each Drug Regimen\")\n",
    "plt.xlabel(\"Drug Regimen Name\")\n",
    "plt.ylabel(\"# of Mice\")\n",
    "plt.xlim(-1, 10)\n",
    "plt.ylim(0, max(drug_count)+25)"
   ]
  },
  {
   "cell_type": "code",
   "execution_count": 14,
   "metadata": {},
   "outputs": [
    {
     "data": {
      "text/plain": [
       "(0, 255)"
      ]
     },
     "execution_count": 14,
     "metadata": {},
     "output_type": "execute_result"
    },
    {
     "data": {
      "image/png": "[encoded data removed]",
      "text/plain": [
       "<Figure size 432x288 with 1 Axes>"
      ]
     },
     "metadata": {
      "needs_background": "light"
     },
     "output_type": "display_data"
    }
   ],
   "source": [
    "# HOMEWORK INSTRUCTIONS: Generate a bar plot showing number of data points for each treatment regimen using pyplot\n",
    "\n",
    "drug_count2 = orig_combine_data[\"Drug Regimen\"].value_counts()\n",
    "plt.bar(drug_count2.index, drug_count2.values, color=\"blue\", alpha=0.5, align=\"center\") \n",
    "plt.xticks(drug_count2.index, rotation = \"vertical\")\n",
    "plt.title(\"# of Mice in each Drug Regimen\")\n",
    "plt.xlabel(\"Drug Regimen Name\")\n",
    "plt.ylabel(\"# of Mice\")\n",
    "plt.xlim(-1, 10)\n",
    "plt.ylim(0, max(drug_count2)+25)"
   ]
  },
  {
   "cell_type": "markdown",
   "metadata": {},
   "source": [
    "# Pie plots"
   ]
  },
  {
   "cell_type": "code",
   "execution_count": 15,
   "metadata": {},
   "outputs": [
    {
     "data": {
      "image/png": "[encoded data removed]",
      "text/plain": [
       "<Figure size 432x288 with 1 Axes>"
      ]
     },
     "metadata": {},
     "output_type": "display_data"
    }
   ],
   "source": [
    "# HOMEWORK INSTRUCTIONS: Generate a pie plot showing the distribution of female versus male mice using pandas\n",
    "\n",
    "# Plotting pie chart using pandas plot\n",
    "count_gender = mouse_metadata[\"Sex\"].value_counts()\n",
    "colors = [\"blue\", \"orange\"]\n",
    "gender_pie = count_gender.plot(kind=\"pie\", y=count_gender.values, title=\"Mice Gender Breakdown\", \n",
    "                               autopct = \"%1.1f%%\", startangle=360, colors=colors)"
   ]
  },
  {
   "cell_type": "code",
   "execution_count": 16,
   "metadata": {},
   "outputs": [
    {
     "data": {
      "text/plain": [
       "Text(0.5, 1.0, 'Mice Gender Breakdown')"
      ]
     },
     "execution_count": 16,
     "metadata": {},
     "output_type": "execute_result"
    },
    {
     "data": {
      "image/png": "[encoded data removed]",
      "text/plain": [
       "<Figure size 432x288 with 1 Axes>"
      ]
     },
     "metadata": {},
     "output_type": "display_data"
    }
   ],
   "source": [
    "# HOMEWORK INSTRUCTIONS: Generate a pie plot showing the distribution of female versus male mice using pyplot\n",
    "\n",
    "# PLotting pie chart using pyplot\n",
    "labels = [\"Female\", \"Male\"]\n",
    "sizes = [124, 125]\n",
    "colors = [\"orange\", \"blue\"]\n",
    "\n",
    "plt.pie(sizes, labels=labels, colors=colors, startangle= 180, autopct = \"%1.1f%%\")\n",
    "plt.title(\"Mice Gender Breakdown\")"
   ]
  },
  {
   "cell_type": "markdown",
   "metadata": {},
   "source": [
    "## Quartiles, outliers and boxplots"
   ]
  },
  {
   "cell_type": "code",
   "execution_count": null,
   "metadata": {},
   "outputs": [],
   "source": [
    "# HOMEWORK INSTRUCTIONS:\n",
    "# Calculate the final tumor volume of each mouse across four of the most promising treatment regimens.\n",
    "# Calculate the IQR and quantitatively determine if there are any potential outliers."
   ]
  },
  {
   "cell_type": "code",
   "execution_count": 17,
   "metadata": {},
   "outputs": [],
   "source": [
    "#Calculating Capomulin IQR and potential outliers \n",
    "\n",
    "capomulin_data = orig_combine_data.loc[orig_combine_data[\"Drug Regimen\"] == \"Capomulin\"]\n",
    "capomulin_data2 = capomulin_data.reset_index(drop=True)\n",
    "\n",
    "group_by_mice = capomulin_data2.groupby(['Mouse ID'], sort=False)['Timepoint'].idxmax() \n",
    "group_by_mice_list = group_by_mice.tolist()\n",
    "# print(group_by_mice_list) to find index location to use to find final tumor volume for each mouse\n",
    "\n",
    "# Find final capomulin tumor volume for all mice in study using index location\n",
    "cap_tumor_vol_all = capomulin_data2.iloc[[9, 19, 29, 34, 44, 54, 64, 74, 84, 94, 104, 114, 124, 134, 144, \n",
    "                                     152, 162, 165, 175, 185, 195, 205, 215, 225, 229], 6]\n",
    "\n",
    "capomulin_quartiles = cap_tumor_vol_all.quantile([0.25, 0.5, 0.75])\n",
    "capomulin_lowerq = capomulin_quartiles[0.25]\n",
    "capomulin_upperq = capomulin_quartiles[0.75]\n",
    "capomulin_iqr = capomulin_upperq - capomulin_lowerq\n",
    "\n",
    "capomulin_lower_bound = capomulin_lowerq - (1.5*capomulin_iqr)\n",
    "capomulin_upper_bound = capomulin_upperq + (1.5*capomulin_iqr)"
   ]
  },
  {
   "cell_type": "code",
   "execution_count": 18,
   "metadata": {},
   "outputs": [],
   "source": [
    "# Calculating Ramicane IQR and potential outliers\n",
    "\n",
    "ramicane_data = orig_combine_data.loc[orig_combine_data[\"Drug Regimen\"] == \"Ramicane\"]\n",
    "ramicane_data2 = ramicane_data.reset_index(drop=True)\n",
    "\n",
    "\n",
    "group_by_mice_ram = ramicane_data2.groupby(['Mouse ID'], sort=False)['Timepoint'].idxmax() \n",
    "group_by_mice_ram_list = group_by_mice_ram.tolist()\n",
    "# print(group_by_mice_list) to find index location to use to find final tumor volume for each mouse\n",
    "\n",
    "# Find final ramicane tumor volume for all mice in study using index location\n",
    "ram_tumor_vol_all = ramicane_data2.iloc[[9, 19, 29, 39, 49, 59, 69, 79, 89, 99, 109, 119, 129, 139, 147, 157, \n",
    "                                        164, 174, 184, 194, 204, 214, 221, 223, 227], 6]\n",
    "\n",
    "ramicane_quartiles = ram_tumor_vol_all.quantile([0.25, 0.5, 0.75])\n",
    "ramicane_lowerq = ramicane_quartiles[0.25]\n",
    "ramicane_upperq = ramicane_quartiles[0.75]\n",
    "ramicane_iqr = ramicane_upperq - ramicane_lowerq\n",
    "\n",
    "ramicane_lower_bound = ramicane_lowerq - (1.5*ramicane_iqr)\n",
    "ramicane_upper_bound = ramicane_upperq + (1.5*ramicane_iqr)"
   ]
  },
  {
   "cell_type": "code",
   "execution_count": 19,
   "metadata": {},
   "outputs": [],
   "source": [
    "# Calculating Infubinol IQR and potential outliers\n",
    "\n",
    "infubinol_data = orig_combine_data.loc[orig_combine_data[\"Drug Regimen\"] == \"Infubinol\"]\n",
    "infubinol_data2 = infubinol_data.reset_index(drop=True)\n",
    "\n",
    "group_by_mice_infu = infubinol_data2.groupby(['Mouse ID'], sort=False)['Timepoint'].idxmax() \n",
    "group_by_mice_infu_list = group_by_mice_infu.tolist()\n",
    "# print(group_by_mice_list) to find index location to use to find final tumor volume for each mouse\n",
    "\n",
    "# Find final infubinol tumor volume for all mice in study using index location\n",
    "infu_tumor_vol_all = infubinol_data2.iloc[[9, 19, 26, 36, 46, 48, 55, 65, 75, 84, 94, 102, \n",
    "                                        104, 111, 119, 121, 128, 134, 136, 141, 145, 150, 157, 167, 177], 6]\n",
    "\n",
    "infubinol_quartiles = infu_tumor_vol_all.quantile([0.25, 0.5, 0.75])\n",
    "infubinol_lowerq = infubinol_quartiles[0.25]\n",
    "infubinol_upperq = infubinol_quartiles[0.75]\n",
    "infubinol_iqr = infubinol_upperq - infubinol_lowerq\n",
    "\n",
    "infubinol_lower_bound = infubinol_lowerq - (1.5*infubinol_iqr)\n",
    "infubinol_upper_bound = infubinol_upperq + (1.5*infubinol_iqr)"
   ]
  },
  {
   "cell_type": "code",
   "execution_count": 20,
   "metadata": {},
   "outputs": [],
   "source": [
    "# Calculating Ceftamin IQR and potential outliers\n",
    "\n",
    "ceftamin_data = orig_combine_data.loc[orig_combine_data[\"Drug Regimen\"] == \"Ceftamin\"]\n",
    "ceftamin_data2 = ceftamin_data.reset_index(drop=True)\n",
    "\n",
    "group_by_mice_ceft = ceftamin_data2.groupby(['Mouse ID'], sort=False)['Timepoint'].idxmax() \n",
    "group_by_mice_ceft_list = group_by_mice_ceft.tolist()\n",
    "# print(group_by_mice_list) to find index location to use to find final tumor volume for each mouse\n",
    "\n",
    "# Find final ceftamin tumor volume for all mice in study using index location\n",
    "ceft_tumor_vol_all = ceftamin_data2.iloc[[9, 10, 16, 23, 27, 29, 39, 49, 59, 66, 69, 79, 89, 99, \n",
    "                                           109, 118, 119, 125, 126, 136, 137, 147, 157, 167, 177], 6]\n",
    "\n",
    "ceftamin_quartiles = ceft_tumor_vol_all.quantile([0.25, 0.5, 0.75])\n",
    "ceftamin_lowerq = ceftamin_quartiles[0.25]\n",
    "ceftamin_upperq = ceftamin_quartiles[0.75]\n",
    "ceftamin_iqr = ceftamin_upperq - ceftamin_lowerq\n",
    "\n",
    "ceftamin_lower_bound = ceftamin_lowerq - (1.5*ceftamin_iqr)\n",
    "ceftamin_upper_bound = ceftamin_upperq + (1.5*ceftamin_iqr)"
   ]
  },
  {
   "cell_type": "code",
   "execution_count": 21,
   "metadata": {},
   "outputs": [
    {
     "data": {
      "image/png": "[encoded data removed]",
      "text/plain": [
       "<Figure size 432x288 with 1 Axes>"
      ]
     },
     "metadata": {
      "needs_background": "light"
     },
     "output_type": "display_data"
    }
   ],
   "source": [
    "# HOMEWORK INSTRUCTIONS: Generate a box and whisker plot of the final tumor volume of each mouse across four regimens of interest\n",
    "\n",
    "data = [cap_tumor_vol_all, ram_tumor_vol_all, infu_tumor_vol_all, ceft_tumor_vol_all]\n",
    "flierprops = {\"markerfacecolor\": \"green\",\n",
    "              \"markersize\": 10}\n",
    "fig, ax = plt.subplots()\n",
    "ax.set_title('Boxplot for 4 Top Drugs (includes all mice)')\n",
    "ax.boxplot(data, flierprops=flierprops)\n",
    "ax.set_xticklabels(['Capomulin', 'Ramicane', 'Infubinol', 'Ceftamin'])\n",
    "ax.set_ylabel(\"Tumor Volume (mm3)\")\n",
    "plt.show()"
   ]
  },
  {
   "cell_type": "code",
   "execution_count": 22,
   "metadata": {},
   "outputs": [
    {
     "data": {
      "text/html": [
       "<div>\n",
       "<style scoped>\n",
       "    .dataframe tbody tr th:only-of-type {\n",
       "        vertical-align: middle;\n",
       "    }\n",
       "\n",
       "    .dataframe tbody tr th {\n",
       "        vertical-align: top;\n",
       "    }\n",
       "\n",
       "    .dataframe thead th {\n",
       "        text-align: right;\n",
       "    }\n",
       "</style>\n",
       "<table border=\"1\" class=\"dataframe\">\n",
       "  <thead>\n",
       "    <tr style=\"text-align: right;\">\n",
       "      <th></th>\n",
       "      <th>Drug_Regimen</th>\n",
       "      <th>Lower_Quartile</th>\n",
       "      <th>Upper_Quartile</th>\n",
       "      <th>Inter_Quartile_Range</th>\n",
       "      <th>Lower_Bound</th>\n",
       "      <th>Upper_Bound</th>\n",
       "      <th>Median</th>\n",
       "    </tr>\n",
       "  </thead>\n",
       "  <tbody>\n",
       "    <tr>\n",
       "      <td>0</td>\n",
       "      <td>Capomulin</td>\n",
       "      <td>32.377357</td>\n",
       "      <td>40.159220</td>\n",
       "      <td>7.781863</td>\n",
       "      <td>20.704562</td>\n",
       "      <td>51.832015</td>\n",
       "      <td>38.125164</td>\n",
       "    </tr>\n",
       "    <tr>\n",
       "      <td>1</td>\n",
       "      <td>Ramicane</td>\n",
       "      <td>31.560470</td>\n",
       "      <td>40.659006</td>\n",
       "      <td>9.098537</td>\n",
       "      <td>17.912664</td>\n",
       "      <td>54.306811</td>\n",
       "      <td>36.561652</td>\n",
       "    </tr>\n",
       "    <tr>\n",
       "      <td>2</td>\n",
       "      <td>Infubinol</td>\n",
       "      <td>54.048608</td>\n",
       "      <td>65.525743</td>\n",
       "      <td>11.477135</td>\n",
       "      <td>36.832905</td>\n",
       "      <td>82.741446</td>\n",
       "      <td>60.165180</td>\n",
       "    </tr>\n",
       "    <tr>\n",
       "      <td>3</td>\n",
       "      <td>Ceftamin</td>\n",
       "      <td>48.722078</td>\n",
       "      <td>64.299830</td>\n",
       "      <td>15.577752</td>\n",
       "      <td>25.355450</td>\n",
       "      <td>87.666458</td>\n",
       "      <td>59.851956</td>\n",
       "    </tr>\n",
       "  </tbody>\n",
       "</table>\n",
       "</div>"
      ],
      "text/plain": [
       "  Drug_Regimen  Lower_Quartile  Upper_Quartile  Inter_Quartile_Range  \\\n",
       "0    Capomulin       32.377357       40.159220              7.781863   \n",
       "1     Ramicane       31.560470       40.659006              9.098537   \n",
       "2    Infubinol       54.048608       65.525743             11.477135   \n",
       "3     Ceftamin       48.722078       64.299830             15.577752   \n",
       "\n",
       "   Lower_Bound  Upper_Bound     Median  \n",
       "0    20.704562    51.832015  38.125164  \n",
       "1    17.912664    54.306811  36.561652  \n",
       "2    36.832905    82.741446  60.165180  \n",
       "3    25.355450    87.666458  59.851956  "
      ]
     },
     "execution_count": 22,
     "metadata": {},
     "output_type": "execute_result"
    }
   ],
   "source": [
    "# Creating an IQR summary for 4 top drug regimens\n",
    "\n",
    "iqr_summary = pd.DataFrame({\"Drug_Regimen\": [\"Capomulin\", \"Ramicane\", \"Infubinol\", \"Ceftamin\"],\n",
    "                            \"Lower_Quartile\": [capomulin_lowerq, ramicane_lowerq, infubinol_lowerq, ceftamin_lowerq],\n",
    "                            \"Upper_Quartile\": [capomulin_upperq, ramicane_upperq, infubinol_upperq, ceftamin_upperq],\n",
    "                            \"Inter_Quartile_Range\": [capomulin_iqr, ramicane_iqr, infubinol_iqr, ceftamin_iqr],\n",
    "                            \"Lower_Bound\": [capomulin_lower_bound, ramicane_lower_bound,infubinol_lower_bound,ceftamin_lower_bound],\n",
    "                            \"Upper_Bound\": [capomulin_upper_bound, ramicane_upper_bound,infubinol_upper_bound,ceftamin_upper_bound],\n",
    "                            \"Median\": [capomulin_quartiles[0.5], ramicane_quartiles[0.5], infubinol_quartiles[0.5], ceftamin_quartiles[0.5]]\n",
    "                           })\n",
    "iqr_summary"
   ]
  },
  {
   "cell_type": "markdown",
   "metadata": {},
   "source": [
    "## Line and scatter plots"
   ]
  },
  {
   "cell_type": "code",
   "execution_count": 23,
   "metadata": {},
   "outputs": [
    {
     "data": {
      "image/png": "[encoded data removed]",
      "text/plain": [
       "<Figure size 432x288 with 1 Axes>"
      ]
     },
     "metadata": {
      "needs_background": "light"
     },
     "output_type": "display_data"
    }
   ],
   "source": [
    "# HOMEWORK INSTRUCTIONS: Generate a line plot of time point versus tumor volume for a mouse treated with Capomulin\n",
    "\n",
    "# Generating a line plot for Mouse ID S185 (from Capomulin Drug regimen)\n",
    "\n",
    "capomulin_mouse_s185 = orig_combine_data.loc[(orig_combine_data[\"Drug Regimen\"] == \"Capomulin\") & \n",
    "                                            (orig_combine_data[\"Mouse ID\"] == \"s185\")]\n",
    "capomulin_mouse_s185_tumor = capomulin_mouse_s185[[\"Tumor Volume (mm3)\", \"Timepoint\"]]\n",
    "capomulin_mouse_s185_tumor1 = capomulin_mouse_s185_tumor.set_index(\"Timepoint\")\n",
    "capomulin_mouse_s185_tumor1.plot(title=\"Mouse ID s185 (Capumolin Regimen): Tumor Size vs Timepoint\")\n",
    "plt.xlabel(\"Timepoint in Days\")\n",
    "plt.ylabel(\"Tumor Volume (mm3)\")\n",
    "plt.grid()\n"
   ]
  },
  {
   "cell_type": "code",
   "execution_count": 24,
   "metadata": {},
   "outputs": [
    {
     "name": "stdout",
     "output_type": "stream",
     "text": [
      "The correlation between average tumor volume and average mice weight is: 0.84\n",
      "The equation of the line is: y = 0.74x + -10.15\n"
     ]
    },
    {
     "data": {
      "image/png": "[encoded data removed]",
      "text/plain": [
       "<Figure size 432x288 with 2 Axes>"
      ]
     },
     "metadata": {
      "needs_background": "light"
     },
     "output_type": "display_data"
    }
   ],
   "source": [
    "# HOMEWORK INSTRUCTIONS: Generate a scatter plot of mouse weight versus average tumor volume for the Capomulin regimen\n",
    "\n",
    "capomulin_data_scatterplot = orig_combine_data.loc[orig_combine_data[\"Drug Regimen\"] == \"Capomulin\"]\n",
    "capomulin_data_scatterplot.tail()\n",
    "group_mice = capomulin_data_scatterplot.groupby([\"Mouse ID\"])\n",
    "group_mice_avg_tumor = group_mice[\"Tumor Volume (mm3)\"].mean()\n",
    "group_mice_avg_weight = group_mice[\"Weight (g)\"].mean()\n",
    "\n",
    "\n",
    "capomulin_weight_tumor = pd.DataFrame({\"Avg_mice_weight\": group_mice_avg_weight,\n",
    "                                       \"Avg_mice_tumor\": group_mice_avg_tumor})\n",
    "\n",
    "# Plot scatterplot\n",
    "plt.scatter(capomulin_weight_tumor.Avg_mice_tumor , capomulin_weight_tumor.Avg_mice_weight, s=100, \n",
    "            c=capomulin_weight_tumor.Avg_mice_tumor)\n",
    "clb=plt.colorbar()\n",
    "plt.xlabel(\"Avg Tumor Volume (mm3)\")\n",
    "plt.ylabel(\"Avg Mouse Weight (g)\")\n",
    "plt.title(\"Avg Tumor Volume vs Avg Mouse Weight (Capomulin Regimen)\")\n",
    "\n",
    "# Calculating Correlation Coefficient and plotting regression line\n",
    "\n",
    "x_values = capomulin_weight_tumor[\"Avg_mice_tumor\"]\n",
    "y_values = capomulin_weight_tumor[\"Avg_mice_weight\"]\n",
    "correlation = st.pearsonr(x_values , y_values)\n",
    "\n",
    "(slope, intercept, rvalue, pvalue, stderr) = st.linregress(x_values, y_values)\n",
    "regress_values = x_values * slope + intercept\n",
    "line_eq = \"y = \" + str(round(slope,2)) + \"x + \" + str(round(intercept, 2))\n",
    "plt.plot(x_values, regress_values,\"r-\")\n",
    "plt.annotate(line_eq, (38,15), fontsize=15, color=\"red\")\n",
    "print(f\"The correlation between average tumor volume and average mice weight is: {round(correlation[0],2)}\")\n",
    "print(f\"The equation of the line is: {line_eq}\")"
   ]
  },
  {
   "cell_type": "code",
   "execution_count": null,
   "metadata": {},
   "outputs": [],
   "source": []
  }
 ],
 "metadata": {
  "anaconda-cloud": {},
  "kernelspec": {
   "display_name": "Python 3",
   "language": "python",
   "name": "python3"
  },
  "language_info": {
   "codemirror_mode": {
    "name": "ipython",
    "version": 3
   },
   "file_extension": ".py",
   "mimetype": "text/x-python",
   "name": "python",
   "nbconvert_exporter": "python",
   "pygments_lexer": "ipython3",
   "version": "3.7.4"
  }
 },
 "nbformat": 4,
 "nbformat_minor": 2
}
